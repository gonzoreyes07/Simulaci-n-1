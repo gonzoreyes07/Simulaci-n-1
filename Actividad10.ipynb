{
  "nbformat": 4,
  "nbformat_minor": 0,
  "metadata": {
    "colab": {
      "provenance": [],
      "authorship_tag": "ABX9TyOb0THs361Ys8Sqn6EpVBA/",
      "include_colab_link": true
    },
    "kernelspec": {
      "name": "python3",
      "display_name": "Python 3"
    },
    "language_info": {
      "name": "python"
    }
  },
  "cells": [
    {
      "cell_type": "markdown",
      "metadata": {
        "id": "view-in-github",
        "colab_type": "text"
      },
      "source": [
        "<a href=\"https://colab.research.google.com/github/gonzoreyes07/Simulaci-n-1/blob/main/Actividad10.ipynb\" target=\"_parent\"><img src=\"https://colab.research.google.com/assets/colab-badge.svg\" alt=\"Open In Colab\"/></a>"
      ]
    },
    {
      "cell_type": "code",
      "source": [
        "import numpy as np"
      ],
      "metadata": {
        "id": "bet_-zahMm4r"
      },
      "execution_count": 14,
      "outputs": []
    },
    {
      "cell_type": "code",
      "source": [
        "# Parámetros para la simulación\n",
        "N = 100000  # Número de simulaciones\n",
        "t_max = 10  # Tiempo máximo de espera (minutos)\n",
        "intervalo = 30  # Intervalo de tiempo [0, 30] minutos\n",
        "exitos = 0  # Contador de casos en el que |X-Y| <= 10"
      ],
      "metadata": {
        "id": "8RT_0GALMotO"
      },
      "execution_count": 15,
      "outputs": []
    },
    {
      "cell_type": "code",
      "source": [
        "np.random.seed(42)  # Para reproducibilidad\n",
        "for _ in range(N):\n",
        "    # Generamos tiempos de llegada distribuidos uniformemente en [0, 30]\n",
        "    X = np.random.uniform(0, intervalo)\n",
        "    Y = np.random.uniform(0, intervalo)\n",
        "    # Calcular el tiempo de espera\n",
        "    t_espera = abs(X - Y)\n",
        "    # Verificar si el tiempo de espera es <= 10 minutos\n",
        "    if t_espera <= t_max:\n",
        "        exitos += 1\n",
        "\n",
        "# Calculo de la probabilidad estimada\n",
        "prob = exitos / N"
      ],
      "metadata": {
        "id": "hOt3606oWSKr"
      },
      "execution_count": 16,
      "outputs": []
    },
    {
      "cell_type": "code",
      "execution_count": 18,
      "metadata": {
        "colab": {
          "base_uri": "https://localhost:8080/"
        },
        "id": "FqRP4AJsMfxK",
        "outputId": "0da7544c-755e-4f33-80f4-da24e0bb6ebe"
      },
      "outputs": [
        {
          "output_type": "stream",
          "name": "stdout",
          "text": [
            "Probabilidad estimada (simulación): 0.5554\n",
            "Intervalo obtenido: (0.5523, 0.5584)\n",
            "Probabilidad analítica: 0.5556\n",
            "Diferencia entre simulación y analítica: 0.0002\n"
          ]
        }
      ],
      "source": [
        "# Agregamos un intervalo de confianza del 95% para la proporción, consideramos: p ± 1.96 * sqrt(p * (1-p) / N)\n",
        "error = np.sqrt(prob * (1 - prob) / N)\n",
        "intervalo_confianza = (prob - 1.96 * error, prob + 1.96 * error)\n",
        "\n",
        "# Solución analítica\n",
        "prob_analitica = 5/9\n",
        "\n",
        "print(f\"Probabilidad estimada (simulación): {prob:.4f}\")\n",
        "print(f\"Intervalo obtenido: ({intervalo_confianza[0]:.4f}, {intervalo_confianza[1]:.4f})\")\n",
        "print(f\"Probabilidad analítica: {prob_analitica:.4f}\")\n",
        "print(f\"Diferencia entre simulación y analítica: {abs(prob - prob_analitica):.4f}\")"
      ]
    }
  ]
}