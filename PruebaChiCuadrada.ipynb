{
  "nbformat": 4,
  "nbformat_minor": 0,
  "metadata": {
    "colab": {
      "provenance": [],
      "authorship_tag": "ABX9TyNcb/7dwBRGfHPA2fKvOZpX",
      "include_colab_link": true
    },
    "kernelspec": {
      "name": "python3",
      "display_name": "Python 3"
    },
    "language_info": {
      "name": "python"
    }
  },
  "cells": [
    {
      "cell_type": "markdown",
      "metadata": {
        "id": "view-in-github",
        "colab_type": "text"
      },
      "source": [
        "<a href=\"https://colab.research.google.com/github/gonzoreyes07/Simulaci-n-1/blob/main/PruebaChiCuadrada.ipynb\" target=\"_parent\"><img src=\"https://colab.research.google.com/assets/colab-badge.svg\" alt=\"Open In Colab\"/></a>"
      ]
    },
    {
      "cell_type": "code",
      "execution_count": 11,
      "metadata": {
        "colab": {
          "base_uri": "https://localhost:8080/"
        },
        "id": "Kk1oQYNJsNBc",
        "outputId": "b861f5e2-5ee1-4e98-f36c-2ce4b5fed3d1"
      },
      "outputs": [
        {
          "output_type": "stream",
          "name": "stdout",
          "text": [
            "Número total de datos: 25\n",
            "+----------+------------------------+-----------------------+\n",
            "| Clases   |   Frecuencia Observada |   Frecuencia Esperada |\n",
            "+==========+========================+=======================+\n",
            "| 0.0-0.2  |                      6 |                     5 |\n",
            "+----------+------------------------+-----------------------+\n",
            "| 0.2-0.4  |                      4 |                     5 |\n",
            "+----------+------------------------+-----------------------+\n",
            "| 0.4-0.6  |                      7 |                     5 |\n",
            "+----------+------------------------+-----------------------+\n",
            "| 0.6-0.8  |                      3 |                     5 |\n",
            "+----------+------------------------+-----------------------+\n",
            "| 0.8-1.0  |                      5 |                     5 |\n",
            "+----------+------------------------+-----------------------+\n",
            "Valor estadístico Chi-Cuadrada: 2.0000\n",
            "Valor crítico: 9.4877\n",
            "Conclusión: No se rechaza H0\n"
          ]
        }
      ],
      "source": [
        "from tabulate import tabulate\n",
        "from scipy.stats import chi2\n",
        "\n",
        "# Lista de datos proporcionados\n",
        "datos = [0.048,0.926,0.368,0.787,0.298,0.591,0.007,0.437,0.594,0.199,0.478,0.551,0.178,0.086,0.157,0.166,0.362,0.411,0.951,0.401,0.932,0.533,0.545,0.772,0.631]\n",
        "\n",
        "# Número de clases\n",
        "clases = 5\n",
        "\n",
        "# Encabezados de la tabla\n",
        "encabezados = [\"Clases\", \"Frecuencia Observada\", \"Frecuencia Esperada\"]\n",
        "\n",
        "# Almacenamos los resultados\n",
        "resultados = []\n",
        "\n",
        "# Encontramos el valor máximo y mínimo de los datos\n",
        "min_dato = min(datos)\n",
        "max_dato = max(datos)\n",
        "\n",
        "# Definimos los intervalos\n",
        "interval_size = (max_dato - min_dato) / clases\n",
        "intervalos = [(min_dato + i * interval_size, min_dato + (i + 1) * interval_size) for i in range(clases)]\n",
        "\n",
        "# Calculamos las frecuencias observadas\n",
        "frecuencias = [0] * clases\n",
        "for num in datos:\n",
        "    for i, (inicio, fin) in enumerate(intervalos):\n",
        "        if inicio <= num < fin:  # Usamos < para el límite superior\n",
        "            frecuencias[i] += 1\n",
        "            break\n",
        "        elif i == clases - 1 and num == max_dato:  # Aseguramos que el máximo esté incluido\n",
        "            frecuencias[i] += 1\n",
        "\n",
        "# Calculamos la frecuencia esperada\n",
        "n_muestras = len(datos)\n",
        "frecuencia_esperada = [n_muestras / clases] * clases\n",
        "\n",
        "# Preparar resultados para la tabla\n",
        "for i, ((inicio, fin), frec_obs, frec_exp) in enumerate(zip(intervalos, frecuencias, frecuencia_esperada)):\n",
        "    intervalo = f\"{inicio:.1f}-{fin:.1f}\"\n",
        "    resultados.append([intervalo, frec_obs, frec_exp])\n",
        "\n",
        "# Calculamos el estadístico Chi-cuadrada\n",
        "chi_cuadrada = sum((obs - exp) ** 2 / exp for obs, exp in zip(frecuencias, frecuencia_esperada))\n",
        "\n",
        "# Calculo del valor crítico\n",
        "grados_libertad = clases - 1\n",
        "valor_critico = chi2.ppf(0.95, grados_libertad)\n",
        "\n",
        "# Determinar conclusión\n",
        "conclusion = \"No se rechaza H0\" if chi_cuadrada < valor_critico else \"Se rechaza H0\"\n",
        "\n",
        "# Imprimir tabla\n",
        "print(f\"Número total de datos: {n_muestras}\")\n",
        "print(tabulate(resultados, headers=encabezados, tablefmt=\"grid\"))\n",
        "print(f\"Valor estadístico Chi-Cuadrada: {chi_cuadrada:.4f}\")\n",
        "print(f\"Valor crítico: {valor_critico:.4f}\")\n",
        "print(f\"Conclusión: {conclusion}\")"
      ]
    }
  ]
}