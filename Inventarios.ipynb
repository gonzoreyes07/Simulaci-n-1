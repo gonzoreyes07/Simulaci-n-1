{
  "nbformat": 4,
  "nbformat_minor": 0,
  "metadata": {
    "colab": {
      "provenance": [],
      "authorship_tag": "ABX9TyMgG/JjIzDgp16Yaf/6TPwi",
      "include_colab_link": true
    },
    "kernelspec": {
      "name": "python3",
      "display_name": "Python 3"
    },
    "language_info": {
      "name": "python"
    }
  },
  "cells": [
    {
      "cell_type": "markdown",
      "metadata": {
        "id": "view-in-github",
        "colab_type": "text"
      },
      "source": [
        "<a href=\"https://colab.research.google.com/github/gonzoreyes07/Simulaci-n-1/blob/main/Inventarios.ipynb\" target=\"_parent\"><img src=\"https://colab.research.google.com/assets/colab-badge.svg\" alt=\"Open In Colab\"/></a>"
      ]
    },
    {
      "cell_type": "markdown",
      "source": [
        "# Ejemplo 5.5. Sistema de inventarios\n",
        "\n",
        "La demanda mensual de cierto producto sigue la siguiente distribución de probabilidad empírica:\n",
        "\n",
        "$$\n",
        "\\begin{array}{c c | c c | c c}\n",
        "\\hline\n",
        "\\text{Cantidad} & \\text{Probabilidad} & \\text{Cantidad} & \\text{Probabilidad} & \\text{Cantidad} & \\text{Probabilidad} \\\\\n",
        "\\hline\n",
        "35 & 0.010 & 44 & 0.029 & 53 & 0.065 \\\\\n",
        "36 & 0.015 & 45 & 0.035 & 54 & 0.060 \\\\\n",
        "37 & 0.020 & 46 & 0.045 & 55 & 0.050 \\\\\n",
        "38 & 0.020 & 47 & 0.060 & 56 & 0.040 \\\\\n",
        "39 & 0.022 & 48 & 0.065 & 57 & 0.030 \\\\\n",
        "40 & 0.023 & 49 & 0.070 & 58 & 0.016 \\\\\n",
        "41 & 0.025 & 50 & 0.080 & 59 & 0.015 \\\\\n",
        "42 & 0.027 & 51 & 0.075 & 60 & 0.005 \\\\\n",
        "43 & 0.028 & 52 & 0.070 &  &  \\\\\n",
        "\\hline\n",
        "\\end{array}\n",
        "$$\n",
        "\n",
        "\n",
        "El tiempo de entrega está distribuido de acuerdo a la siguiente función de probabilidad:\n",
        "\n",
        "$$\n",
        "\\begin{array}{|c|c|c|c|}\n",
        "\\hline\n",
        "\\text{Meses} & 1 & 2 & 3 \\\\\n",
        "\\hline\n",
        "\\text{Probabilidad} & 0.30 & 0.40 & 0.30 \\\\\n",
        "\\hline\n",
        "\\end{array}\n",
        "$$\n",
        "\n",
        "Los factores estacionales para cada uno de los meses del año son como se muestra a continuación:\n",
        "\n",
        "$$\n",
        "\\begin{array}{|c|c|c|c|}\n",
        "\\hline\n",
        "\\text{Mes} & \\text{Factores estacionales} & \\text{Mes} & \\text{Factores estacionales} \\\\\n",
        "\\hline\n",
        "1 & 1.20 & 7 & 0.80 \\\\\n",
        "2 & 1.00 & 8 & 0.90 \\\\\n",
        "3 & 0.90 & 9 & 1.00 \\\\\n",
        "4 & 0.80 & 10 & 1.20 \\\\\n",
        "5 & 0.80 & 11 & 1.30 \\\\\n",
        "6 & 0.70 & 12 & 1.40 \\\\\n",
        "\\hline\n",
        "\\end{array}\n",
        "$$\n",
        "\n",
        "La información con respecto a los costos relevantes es la siguiente:\n",
        "\n",
        "Costo de ordenar = $120/orden\n",
        "\n",
        "Costo de inventario = $20/unidad/año\n",
        "\n",
        "Costo de faltante = $50/unidad\n",
        "\n",
        "Si el inventario inicial se asume en 150 unidades, ¿determine la cantidad óptima a ordenar (q) y el nivel óptimo de reorden (R)?\n"
      ],
      "metadata": {
        "id": "0LHA9kF7lj0T"
      }
    },
    {
      "cell_type": "code",
      "source": [
        "import numpy as np\n",
        "import random"
      ],
      "metadata": {
        "id": "ejL9ZmiqsAic"
      },
      "execution_count": 1,
      "outputs": []
    },
    {
      "cell_type": "code",
      "source": [
        "# Configuración de la simulación\n",
        "np.random.seed(42)  # Para reproducibilidad\n",
        "simulaciones = 100  # Número de simulaciones\n",
        "n = 12  # Duración de la simulación en meses"
      ],
      "metadata": {
        "id": "R5ArvAp7stb7"
      },
      "execution_count": 15,
      "outputs": []
    },
    {
      "cell_type": "code",
      "source": [
        "# Distribución de la demanda\n",
        "demandas = [35, 36, 37, 38, 39, 40, 41, 42, 43, 44, 45, 46, 47, 48, 49, 50, 51, 52, 53, 54, 55, 56, 57, 58, 59, 60]\n",
        "prob = [0.010, 0.015, 0.020, 0.020, 0.022, 0.023, 0.025, 0.027, 0.028, 0.029, 0.035, 0.045, 0.060, 0.065, 0.070, 0.080, 0.075, 0.070, 0.065, 0.060, 0.050, 0.040, 0.030, 0.016, 0.015, 0.005]\n",
        "\n",
        "# Distribución del tiempo de entrega\n",
        "tiempos = [1, 2, 3]\n",
        "prob_tiempos = [0.30, 0.40, 0.30]\n",
        "\n",
        "# Factores estacionales\n",
        "fac = [1.20, 1.00, 0.90, 0.80, 0.80, 0.70, 0.80, 0.90, 1.00, 1.20, 1.30, 1.40]\n",
        "\n",
        "# Costos\n",
        "costo_orden = 120\n",
        "costo_inventario = 20 / 12  # $1.6667 por unidad por mes\n",
        "costo_faltante = 50"
      ],
      "metadata": {
        "id": "3GDYkJ2Es2BY"
      },
      "execution_count": 16,
      "outputs": []
    },
    {
      "cell_type": "code",
      "source": [
        "# Definimos las funciones que utilizaremos:\n",
        "\n",
        "# Función para generar demanda\n",
        "def demanda():\n",
        "    return np.random.choice(demandas, p=prob)\n",
        "\n",
        "# Función para generar tiempo de entrega\n",
        "def entrega():\n",
        "    return np.random.choice(tiempos, p=prob_tiempos)\n",
        "\n",
        "# Función para simular un año\n",
        "def inventario_anual(R, q, inventario_inicial=150):\n",
        "    total_costos = 0\n",
        "    for _ in range(simulaciones):\n",
        "        inventario = inventario_inicial\n",
        "        costo_acum = 0\n",
        "        pendientes = []  # Creamos una lista del mes de llegada y cantidad\n",
        "\n",
        "        for mes in range(n):\n",
        "            # Ajustamos la demanda por los factores estacionales\n",
        "            demanda_inicial = demanda()\n",
        "            demanda_ajustada = round(demanda_inicial * fac[mes])\n",
        "\n",
        "            # Llegadas de órdenes\n",
        "            inventario_nuevo = inventario\n",
        "            pendientes = [(t, q) for t, q in pendientes if t > mes]\n",
        "            for entrega_mes, cantidad in [(t, q) for t, q in pendientes if t == mes]:\n",
        "                inventario_nuevo += cantidad\n",
        "\n",
        "            if inventario_nuevo <= R:\n",
        "                cantidad_orden = q\n",
        "                tiempo_entrega = entrega()\n",
        "                pendientes.append((mes + tiempo_entrega, cantidad_orden))\n",
        "                costo_acum += costo_orden\n",
        "\n",
        "            # Actualizamos el inventario con la demanda ajustada\n",
        "            inventario = inventario_nuevo - demanda_ajustada\n",
        "\n",
        "            # Calculo de costos\n",
        "            if inventario > 0:\n",
        "                costo_acum += inventario * costo_inventario\n",
        "            else:\n",
        "                costo_acum += abs(inventario) * costo_faltante\n",
        "                inventario = 0\n",
        "\n",
        "        total_costos += costo_acum\n",
        "\n",
        "    return total_costos / simulaciones"
      ],
      "metadata": {
        "id": "mtGuP8htweMO"
      },
      "execution_count": 17,
      "outputs": []
    },
    {
      "cell_type": "code",
      "source": [
        "# Busqueda de los valores óptimos para R y q\n",
        "mejor_costo = float('inf')\n",
        "R_optimo = None\n",
        "q_optimo = None"
      ],
      "metadata": {
        "id": "3PBj76Gkwmed"
      },
      "execution_count": 18,
      "outputs": []
    },
    {
      "cell_type": "code",
      "source": [
        "# Rangos para R y q\n",
        "R_valores = range(30, 100, 10)  # Niveles de reorden entre 30 y 90\n",
        "q_valores = range(50, 150, 10)  # Cantidades a ordenar entre 50 y 140"
      ],
      "metadata": {
        "id": "uPyJf_TEwzMH"
      },
      "execution_count": 19,
      "outputs": []
    },
    {
      "cell_type": "code",
      "execution_count": 21,
      "metadata": {
        "id": "JDuzWI84ldhc",
        "colab": {
          "base_uri": "https://localhost:8080/"
        },
        "outputId": "08e316ea-b848-41bb-a63f-2a0f10fb01dd"
      },
      "outputs": [
        {
          "output_type": "stream",
          "name": "stdout",
          "text": [
            "Nivel óptimo de reorden (R): 70\n",
            "Cantidad óptima a ordenar (q): 80\n",
            "Costo promedio anual: $22871.87\n"
          ]
        }
      ],
      "source": [
        "for R in R_valores:\n",
        "    for q in q_valores:\n",
        "        costo_promedio = inventario_anual(R, q)\n",
        "        if costo_promedio < mejor_costo:\n",
        "            mejor_costo = costo_promedio\n",
        "            R_optimo = R\n",
        "            q_optimo = q\n",
        "\n",
        "# Imprimimos los resultados obtenidos\n",
        "print(f\"Nivel óptimo de reorden (R): {R_optimo}\")\n",
        "print(f\"Cantidad óptima a ordenar (q): {q_optimo}\")\n",
        "print(f\"Costo promedio anual: ${mejor_costo:.2f}\")"
      ]
    }
  ]
}