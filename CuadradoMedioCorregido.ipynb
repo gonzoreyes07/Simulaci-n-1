{
  "nbformat": 4,
  "nbformat_minor": 0,
  "metadata": {
    "colab": {
      "provenance": [],
      "authorship_tag": "ABX9TyONr6nVMLuWhqOG6eNX1DTi",
      "include_colab_link": true
    },
    "kernelspec": {
      "name": "python3",
      "display_name": "Python 3"
    },
    "language_info": {
      "name": "python"
    }
  },
  "cells": [
    {
      "cell_type": "markdown",
      "metadata": {
        "id": "view-in-github",
        "colab_type": "text"
      },
      "source": [
        "<a href=\"https://colab.research.google.com/github/gonzoreyes07/Simulaci-n-1/blob/main/CuadradoMedioCorregido.ipynb\" target=\"_parent\"><img src=\"https://colab.research.google.com/assets/colab-badge.svg\" alt=\"Open In Colab\"/></a>"
      ]
    },
    {
      "cell_type": "code",
      "execution_count": 1,
      "metadata": {
        "colab": {
          "base_uri": "https://localhost:8080/"
        },
        "id": "nSY526V4ToGI",
        "outputId": "9dee59a1-b013-40fa-bb9d-97370fef0f0e"
      },
      "outputs": [
        {
          "output_type": "stream",
          "name": "stdout",
          "text": [
            "+-----+-------+----------+---------+---------------+\n",
            "|   i |   x_n |    x_n^2 |   x_n+1 |   Normalizado |\n",
            "+=====+=======+==========+=========+===============+\n",
            "|   1 |  1856 |  3444736 |    4447 |        0.1856 |\n",
            "+-----+-------+----------+---------+---------------+\n",
            "|   2 |  4447 | 19775809 |    7758 |        0.4447 |\n",
            "+-----+-------+----------+---------+---------------+\n",
            "|   3 |  7758 | 60186564 |    1865 |        0.7759 |\n",
            "+-----+-------+----------+---------+---------------+\n",
            "|   4 |  1865 |  3478225 |    4782 |        0.1865 |\n",
            "+-----+-------+----------+---------+---------------+\n",
            "|   5 |  4782 | 22867524 |    8675 |        0.4782 |\n",
            "+-----+-------+----------+---------+---------------+\n",
            "|   6 |  8675 | 75255625 |    2556 |        0.8676 |\n",
            "+-----+-------+----------+---------+---------------+\n",
            "|   7 |  2556 |  6533136 |    5331 |        0.2556 |\n",
            "+-----+-------+----------+---------+---------------+\n",
            "|   8 |  5331 | 28419561 |    4195 |        0.5332 |\n",
            "+-----+-------+----------+---------+---------------+\n",
            "|   9 |  4195 | 17598025 |    5980 |        0.4195 |\n",
            "+-----+-------+----------+---------+---------------+\n",
            "|  10 |  5980 | 35760400 |    7604 |        0.5981 |\n",
            "+-----+-------+----------+---------+---------------+\n",
            "|  11 |  7604 | 57820816 |    8208 |        0.7605 |\n",
            "+-----+-------+----------+---------+---------------+\n",
            "|  12 |  8208 | 67371264 |    3712 |        0.8209 |\n",
            "+-----+-------+----------+---------+---------------+\n",
            "|  13 |  3712 | 13778944 |    7789 |        0.3712 |\n",
            "+-----+-------+----------+---------+---------------+\n",
            "|  14 |  7789 | 60668521 |    6685 |        0.779  |\n",
            "+-----+-------+----------+---------+---------------+\n",
            "|  15 |  6685 | 44689225 |    6892 |        0.6686 |\n",
            "+-----+-------+----------+---------+---------------+\n",
            "|  16 |  6892 | 47499664 |    4996 |        0.6893 |\n",
            "+-----+-------+----------+---------+---------------+\n",
            "|  17 |  4996 | 24960016 |    9600 |        0.4996 |\n",
            "+-----+-------+----------+---------+---------------+\n",
            "|  18 |  9600 | 92160000 |    1600 |        0.9601 |\n",
            "+-----+-------+----------+---------+---------------+\n",
            "|  19 |  1600 |  2560000 |    5600 |        0.16   |\n",
            "+-----+-------+----------+---------+---------------+\n",
            "|  20 |  5600 | 31360000 |    3600 |        0.5601 |\n",
            "+-----+-------+----------+---------+---------------+\n",
            "|  21 |  3600 | 12960000 |    9600 |        0.36   |\n",
            "+-----+-------+----------+---------+---------------+\n",
            "|  22 |  9600 | 92160000 |    1600 |        0.9601 |\n",
            "+-----+-------+----------+---------+---------------+\n",
            "\n",
            "Ciclo detectado:\n",
            "- Comienza en la iteración: 18\n",
            "- Longitud del ciclo: 4\n",
            "- Valor repetido: 9600\n"
          ]
        }
      ],
      "source": [
        "from tabulate import tabulate\n",
        "\n",
        "x_0 = 1856  # Semilla inicial\n",
        "initial_seed = x_0  # Guardamos la semilla inicial para detectar el ciclo\n",
        "\n",
        "table_headers = [\"i\", \"x_n\", \"x_n^2\", \"x_n+1\", \"Normalizado\"]\n",
        "table_rows = []\n",
        "seen_values = {}  # Diccionario para rastrear valores y sus iteraciones\n",
        "\n",
        "iteration = 1\n",
        "cycle_start = None\n",
        "cycle_length = None\n",
        "\n",
        "while True:\n",
        "    result = x_0 ** 2\n",
        "    result_str = str(result).zfill(8)\n",
        "    x_1 = int(result_str[2:6])\n",
        "    normalized = x_0 / 9999  # Normalización dividiendo entre el máximo valor posible (9999)\n",
        "\n",
        "    # Añadimos la fila a la tabla\n",
        "    table_rows.append([iteration, x_0, result, x_1, f\"{normalized:.4f}\"])\n",
        "\n",
        "    # Verificamos si hay un ciclo\n",
        "    if x_0 in seen_values and cycle_start is None:\n",
        "        cycle_start = seen_values[x_0]\n",
        "        cycle_length = iteration - cycle_start\n",
        "        break\n",
        "\n",
        "    seen_values[x_0] = iteration\n",
        "\n",
        "    x_0 = x_1\n",
        "    iteration += 1\n",
        "\n",
        "    if iteration > 50:  # Límite máximo de iteraciones\n",
        "        break\n",
        "\n",
        "# Imprimimos la tabla\n",
        "print(tabulate(table_rows, headers=table_headers, tablefmt=\"grid\"))\n",
        "\n",
        "# Imprimimos información sobre el ciclo\n",
        "if cycle_start is not None:\n",
        "    print(f\"\\nCiclo detectado:\")\n",
        "    print(f\"- Comienza en la iteración: {cycle_start}\")\n",
        "    print(f\"- Longitud del ciclo: {cycle_length}\")\n",
        "    print(f\"- Valor repetido: {x_0}\")\n",
        "else:\n",
        "    print(\"\\nNo se detectó un ciclo completo en 50 iteraciones\")"
      ]
    }
  ]
}