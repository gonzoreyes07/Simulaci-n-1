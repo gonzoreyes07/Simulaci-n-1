{
  "nbformat": 4,
  "nbformat_minor": 0,
  "metadata": {
    "colab": {
      "provenance": [],
      "authorship_tag": "ABX9TyOjnX6ooJVif+YVuFm4FAoL",
      "include_colab_link": true
    },
    "kernelspec": {
      "name": "python3",
      "display_name": "Python 3"
    },
    "language_info": {
      "name": "python"
    }
  },
  "cells": [
    {
      "cell_type": "markdown",
      "metadata": {
        "id": "view-in-github",
        "colab_type": "text"
      },
      "source": [
        "<a href=\"https://colab.research.google.com/github/gonzoreyes07/Simulaci-n-1/blob/main/N%C3%BAmeros_aleatorios.ipynb\" target=\"_parent\"><img src=\"https://colab.research.google.com/assets/colab-badge.svg\" alt=\"Open In Colab\"/></a>"
      ]
    },
    {
      "cell_type": "markdown",
      "source": [],
      "metadata": {
        "id": "0vFvAFloaM3S"
      }
    },
    {
      "cell_type": "code",
      "source": [
        "from tabulate import tabulate\n",
        "\n",
        "def function(a,c,m,x0):\n",
        "\n",
        "    x = (a * x0 + c) % m\n",
        "\n",
        "    return x\n",
        "\n",
        "\n",
        "muestra = []\n",
        "x0=3\n",
        "a=18\n",
        "c=9\n",
        "m=22\n",
        "\n",
        "for i in range(10):\n",
        "    nuevo = function(a,c,m,x0)\n",
        "    muestra.append([i,x0,nuevo/m])\n",
        "    x0 = nuevo\n",
        "\n",
        "encabezado = [\"Iteracion\", \"Xn\", \"Xn+1\"]\n",
        "print(tabulate(muestra, headers=encabezado))\n"
      ],
      "metadata": {
        "colab": {
          "base_uri": "https://localhost:8080/"
        },
        "id": "EvSesuipcfaK",
        "outputId": "46e017c2-c3b9-4f96-839e-7ba5f44a2167"
      },
      "execution_count": 40,
      "outputs": [
        {
          "output_type": "stream",
          "name": "stdout",
          "text": [
            "  Iteracion    Xn       Xn+1\n",
            "-----------  ----  ---------\n",
            "          0     3  0.863636\n",
            "          1    19  0.954545\n",
            "          2    21  0.590909\n",
            "          3    13  0.0454545\n",
            "          4     1  0.227273\n",
            "          5     5  0.5\n",
            "          6    11  0.409091\n",
            "          7     9  0.772727\n",
            "          8    17  0.318182\n",
            "          9     7  0.136364\n"
          ]
        }
      ]
    }
  ]
}