{
  "nbformat": 4,
  "nbformat_minor": 0,
  "metadata": {
    "colab": {
      "provenance": [],
      "authorship_tag": "ABX9TyP03pWR3utQDIsR0Gm0ryZ8",
      "include_colab_link": true
    },
    "kernelspec": {
      "name": "python3",
      "display_name": "Python 3"
    },
    "language_info": {
      "name": "python"
    }
  },
  "cells": [
    {
      "cell_type": "markdown",
      "metadata": {
        "id": "view-in-github",
        "colab_type": "text"
      },
      "source": [
        "<a href=\"https://colab.research.google.com/github/gonzoreyes07/Simulaci-n-1/blob/main/PruebaKolmogorov_Smirnov.ipynb\" target=\"_parent\"><img src=\"https://colab.research.google.com/assets/colab-badge.svg\" alt=\"Open In Colab\"/></a>"
      ]
    },
    {
      "cell_type": "code",
      "execution_count": 4,
      "metadata": {
        "id": "3E-OewRPj62X",
        "colab": {
          "base_uri": "https://localhost:8080/"
        },
        "outputId": "ecb068cd-ffd2-4139-f6c6-854eeb40b5e9"
      },
      "outputs": [
        {
          "output_type": "stream",
          "name": "stdout",
          "text": [
            "+-----+-------+--------+--------+\n",
            "|   i |   x_i |     D+ |     D- |\n",
            "+=====+=======+========+========+\n",
            "|   1 | 0.007 |  0.033 |  0.007 |\n",
            "+-----+-------+--------+--------+\n",
            "|   2 | 0.048 |  0.032 |  0.008 |\n",
            "+-----+-------+--------+--------+\n",
            "|   3 | 0.086 |  0.034 |  0.006 |\n",
            "+-----+-------+--------+--------+\n",
            "|   4 | 0.157 |  0.003 |  0.037 |\n",
            "+-----+-------+--------+--------+\n",
            "|   5 | 0.166 |  0.034 |  0.006 |\n",
            "+-----+-------+--------+--------+\n",
            "|   6 | 0.178 |  0.062 | -0.022 |\n",
            "+-----+-------+--------+--------+\n",
            "|   7 | 0.199 |  0.081 | -0.041 |\n",
            "+-----+-------+--------+--------+\n",
            "|   8 | 0.298 |  0.022 |  0.018 |\n",
            "+-----+-------+--------+--------+\n",
            "|   9 | 0.362 | -0.002 |  0.042 |\n",
            "+-----+-------+--------+--------+\n",
            "|  10 | 0.368 |  0.032 |  0.008 |\n",
            "+-----+-------+--------+--------+\n",
            "|  11 | 0.401 |  0.039 |  0.001 |\n",
            "+-----+-------+--------+--------+\n",
            "|  12 | 0.411 |  0.069 | -0.029 |\n",
            "+-----+-------+--------+--------+\n",
            "|  13 | 0.437 |  0.083 | -0.043 |\n",
            "+-----+-------+--------+--------+\n",
            "|  14 | 0.478 |  0.082 | -0.042 |\n",
            "+-----+-------+--------+--------+\n",
            "|  15 | 0.533 |  0.067 | -0.027 |\n",
            "+-----+-------+--------+--------+\n",
            "|  16 | 0.545 |  0.095 | -0.055 |\n",
            "+-----+-------+--------+--------+\n",
            "|  17 | 0.551 |  0.129 | -0.089 |\n",
            "+-----+-------+--------+--------+\n",
            "|  18 | 0.591 |  0.129 | -0.089 |\n",
            "+-----+-------+--------+--------+\n",
            "|  19 | 0.594 |  0.166 | -0.126 |\n",
            "+-----+-------+--------+--------+\n",
            "|  20 | 0.631 |  0.169 | -0.129 |\n",
            "+-----+-------+--------+--------+\n",
            "|  21 | 0.772 |  0.068 | -0.028 |\n",
            "+-----+-------+--------+--------+\n",
            "|  22 | 0.787 |  0.093 | -0.053 |\n",
            "+-----+-------+--------+--------+\n",
            "|  23 | 0.926 | -0.006 |  0.046 |\n",
            "+-----+-------+--------+--------+\n",
            "|  24 | 0.932 |  0.028 |  0.012 |\n",
            "+-----+-------+--------+--------+\n",
            "|  25 | 0.951 |  0.049 | -0.009 |\n",
            "+-----+-------+--------+--------+\n",
            "Máximo entre D+ y D-: 0.16900000000000004\n",
            "Valor crítico:  0.2716197278645101\n",
            "\n",
            "Conclusión: Aceptamos la hipótesis nula.\n"
          ]
        }
      ],
      "source": [
        "import numpy as np\n",
        "from tabulate import tabulate\n",
        "from scipy.stats import kstwobign #Importamos kstwobign para la distribución K-S\n",
        "\n",
        "\n",
        "# Datos del ejercicio\n",
        "datos = [0.048,0.926,0.368,0.787,0.298,0.591,0.007,0.437,0.594,0.199,0.478,0.551,0.178,0.086,0.157,0.166,0.362,0.411,0.951,0.401,0.932,0.533,0.545,0.772,0.631]\n",
        "\n",
        "# Ordenamos los datos\n",
        "datos_ordenados = np.sort(datos)\n",
        "\n",
        "# Calculamos los valores de D+ y D-\n",
        "n = len(datos_ordenados) # Asignamos a la variable \"n\" como el total de datos proporcionados\n",
        "D_mas = [(i+1)/n - datos_ordenados[i] for i in range(n)] #Calculamos los D+\n",
        "D_menos = [datos_ordenados[i] - (i)/n for i in range(n)] # Calculamos los D-\n",
        "\n",
        "# Creamos una lista de listas para almacenar los resultados\n",
        "resultados = []\n",
        "\n",
        "# Llenamos la lista con los resultados\n",
        "for i in range(n):\n",
        "    fila = [i+1, datos_ordenados[i], D_mas[i], D_menos[i]]\n",
        "    resultados.append(fila)\n",
        "\n",
        "# Encontramos D, que es el máximo entre D+ y D-\n",
        "D_maximo = max(max(D_mas), max(D_menos))\n",
        "\n",
        "# Calculamos el valor de alpha, para un nivel de aceptación del 95%\n",
        "K = kstwobign.ppf(1-0.05)/np.sqrt(n)\n",
        "\n",
        "# Mostramos los resultados en la tabla\n",
        "encabezados = [\"i\", \"x_i\", \"D+\", \"D-\"]\n",
        "print(tabulate(resultados, headers=encabezados, tablefmt=\"grid\"))\n",
        "print(\"Máximo entre D+ y D-:\", D_maximo)\n",
        "print(\"Valor crítico: \", K)\n",
        "\n",
        "# Comparamos D con K para determinar si rechazamos o no rechazamos la hipótesis nula\n",
        "if D_maximo < K:\n",
        "    print(\"\\nConclusión: Aceptamos la hipótesis nula.\")\n",
        "else:\n",
        "    print(\"\\nConclusión: Rechazamos la hipótesis nula.\")"
      ]
    }
  ]
}