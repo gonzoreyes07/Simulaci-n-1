{
  "nbformat": 4,
  "nbformat_minor": 0,
  "metadata": {
    "colab": {
      "provenance": [],
      "authorship_tag": "ABX9TyMwlA/luH58RnV3RWZY8A3b",
      "include_colab_link": true
    },
    "kernelspec": {
      "name": "python3",
      "display_name": "Python 3"
    },
    "language_info": {
      "name": "python"
    }
  },
  "cells": [
    {
      "cell_type": "markdown",
      "metadata": {
        "id": "view-in-github",
        "colab_type": "text"
      },
      "source": [
        "<a href=\"https://colab.research.google.com/github/gonzoreyes07/Simulaci-n-1/blob/main/Pruebas_de_independencia.ipynb\" target=\"_parent\"><img src=\"https://colab.research.google.com/assets/colab-badge.svg\" alt=\"Open In Colab\"/></a>"
      ]
    },
    {
      "cell_type": "code",
      "execution_count": 7,
      "metadata": {
        "id": "-LWXJit8o4OD",
        "colab": {
          "base_uri": "https://localhost:8080/"
        },
        "outputId": "5317c1ce-7a04-4f64-bf24-86388effbf93"
      },
      "outputs": [
        {
          "output_type": "stream",
          "name": "stdout",
          "text": [
            "El estadístico Z es: 0.16901408450704208\n",
            "La conclusión es: Se acepta H0\n"
          ]
        }
      ],
      "source": [
        "from math import sqrt\n",
        "from scipy.stats import norm\n",
        "\n",
        "#Usamos los datos proporcionados y los agrupamos en una lista.\n",
        "\n",
        "datos=[0.048,0.926,0.368,0.787,0.298,0.591,0.007,0.437,0.594,0.199,0.478,0.551,0.178,0.086,0.157,0.166,0.362,0.411,0.951,0.401,0.932,0.533,0.545,0.772,0.631]\n",
        "\n",
        "# Creamos la función que al tner una secuencia de números, genera un 0 si el número nuevo es menor que el anterior y un 1 si el siguiente número es mayor que el anterior.\n",
        "\n",
        "def secuencia(datos):\n",
        "  binarios = []\n",
        "  for i in range(len(datos)-1): # Para S que tiene n-1 términos\n",
        "    if datos[i+1]>datos[i]:\n",
        "      binarios.append(1)\n",
        "    else:\n",
        "      binarios.append(0)\n",
        "  return binarios\n",
        "\n",
        "# Definimos una fucnión para contabilizar el número de rachas observadas en nuestra lista llamda \"binarios\"\n",
        "\n",
        "def rachas(binarios):\n",
        "  rachas_obs = 1\n",
        "  for i in range(1, len(binarios)):\n",
        "    if binarios[i] != binarios[i-1]: # Comienza una nueva racha al momento de que cambie el número en la lista\n",
        "      rachas_obs += 1\n",
        "  return rachas_obs\n",
        "\n",
        "# Ahora definimos una función que realice la prueba de independencia, utilizando las listas anteriores.\n",
        "\n",
        "def prueba_indp(datos,alpha=0.05):# Agregamos un nivel de confianza del 95%\n",
        "  binarios = secuencia(datos)\n",
        "  n = len(binarios)\n",
        "  rachas_obs=rachas(binarios)\n",
        "\n",
        "  miu = 2*(n-1)/3 # Cálculo de la media\n",
        "  desv_est = ((16*n)-29)/90 # Cálculo de la desviación estándar\n",
        "  z = (rachas_obs-miu)/ desv_est # Cálculo del estadístico Z\n",
        "\n",
        "  z_alpha = norm.ppf(1 - alpha/2) # Valores críticos de Z para el nivel de confianza dado\n",
        "\n",
        "  if -z_alpha <= z <= z_alpha:\n",
        "        conclusion = \"Se acepta H0\"\n",
        "  else:\n",
        "        conclusion = \"Se rechaza H0\"\n",
        "\n",
        "  return z, conclusion\n",
        "\n",
        "z, conclusion = prueba_indp(datos)\n",
        "print(f\"El estadístico Z es: {z}\")\n",
        "print(f\"La conclusión es: {conclusion}\")\n",
        "\n"
      ]
    }
  ]
}